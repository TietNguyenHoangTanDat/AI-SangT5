{
  "nbformat": 4,
  "nbformat_minor": 0,
  "metadata": {
    "colab": {
      "provenance": [],
      "authorship_tag": "ABX9TyN+9cSb+Haxd7TeuDIxCwCk",
      "include_colab_link": true
    },
    "kernelspec": {
      "name": "python3",
      "display_name": "Python 3"
    },
    "language_info": {
      "name": "python"
    }
  },
  "cells": [
    {
      "cell_type": "markdown",
      "metadata": {
        "id": "view-in-github",
        "colab_type": "text"
      },
      "source": [
        "<a href=\"https://colab.research.google.com/github/TietNguyenHoangTanDat/AI-SangT5/blob/main/Crabs_w8_thaythe_sapxep.ipynb\" target=\"_parent\"><img src=\"https://colab.research.google.com/assets/colab-badge.svg\" alt=\"Open In Colab\"/></a>"
      ]
    },
    {
      "cell_type": "code",
      "execution_count": null,
      "metadata": {
        "id": "IJd4kLip_YWc"
      },
      "outputs": [],
      "source": [
        "from sklearn.linear_model import Perceptron\n",
        "from sklearn import datasets\n",
        "from sklearn.model_selection import train_test_split\n",
        "from sklearn.metrics import accuracy_score\n",
        "from sklearn.preprocessing import StandardScaler\n",
        "import pandas as pd"
      ]
    },
    {
      "cell_type": "code",
      "source": [
        "#cach khac de doc du lieu\n",
        "url = 'crabs.csv'\n",
        "crab = pd.read_csv('crabs.csv')\n",
        "print(crab)\n"
      ],
      "metadata": {
        "colab": {
          "base_uri": "https://localhost:8080/"
        },
        "id": "nJp5kuCFBU9E",
        "outputId": "d37997f9-3d79-4889-ea2c-322d8e896514"
      },
      "execution_count": null,
      "outputs": [
        {
          "output_type": "stream",
          "name": "stdout",
          "text": [
            "    speies sex  index  fontallip  rearwidth  length  width  depth\n",
            "0        B   M      1        8.1        6.7    16.1   19.0    7.0\n",
            "1        B   M      2        8.8        7.7    18.1   20.8    7.4\n",
            "2        B   M      3        9.2        7.8    19.0   22.4    7.7\n",
            "3        B   M      4        9.6        7.9    20.1   23.1    8.2\n",
            "4        B   M      5        9.8        8.0    20.3   23.0    8.2\n",
            "..     ...  ..    ...        ...        ...     ...    ...    ...\n",
            "195      O   F     46       21.4       18.0    41.2   46.2   18.7\n",
            "196      O   F     47       21.7       17.1    41.7   47.2   19.6\n",
            "197      O   F     48       21.9       17.2    42.6   47.4   19.5\n",
            "198      O   F     49       22.5       17.2    43.0   48.7   19.8\n",
            "199      O   F     50       23.1       20.2    46.2   52.5   21.1\n",
            "\n",
            "[200 rows x 8 columns]\n"
          ]
        }
      ]
    },
    {
      "cell_type": "code",
      "source": [
        "from numpy.lib.shape_base import split\n",
        "repl = crab.replace(['B','M','O','F'],['1','1','0','0'])\n",
        "print(repl)\n"
      ],
      "metadata": {
        "colab": {
          "base_uri": "https://localhost:8080/"
        },
        "id": "1HbcDt4CCDsX",
        "outputId": "2dd9c93f-d0a1-4d91-c599-9d35fbdb6632"
      },
      "execution_count": null,
      "outputs": [
        {
          "output_type": "stream",
          "name": "stdout",
          "text": [
            "    speies sex  index  fontallip  rearwidth  length  width  depth\n",
            "0        1   1      1        8.1        6.7    16.1   19.0    7.0\n",
            "1        1   1      2        8.8        7.7    18.1   20.8    7.4\n",
            "2        1   1      3        9.2        7.8    19.0   22.4    7.7\n",
            "3        1   1      4        9.6        7.9    20.1   23.1    8.2\n",
            "4        1   1      5        9.8        8.0    20.3   23.0    8.2\n",
            "..     ...  ..    ...        ...        ...     ...    ...    ...\n",
            "195      0   0     46       21.4       18.0    41.2   46.2   18.7\n",
            "196      0   0     47       21.7       17.1    41.7   47.2   19.6\n",
            "197      0   0     48       21.9       17.2    42.6   47.4   19.5\n",
            "198      0   0     49       22.5       17.2    43.0   48.7   19.8\n",
            "199      0   0     50       23.1       20.2    46.2   52.5   21.1\n",
            "\n",
            "[200 rows x 8 columns]\n"
          ]
        }
      ]
    },
    {
      "cell_type": "code",
      "source": [
        "x = repl.drop(['sex'], axis = 1)\n",
        "print(x[:5])"
      ],
      "metadata": {
        "colab": {
          "base_uri": "https://localhost:8080/"
        },
        "id": "gjyDyRUJ-nNb",
        "outputId": "4d894b28-8f99-4cfa-8879-83dcef55bbd9"
      },
      "execution_count": 15,
      "outputs": [
        {
          "output_type": "stream",
          "name": "stdout",
          "text": [
            "  speies  index  fontallip  rearwidth  length  width  depth\n",
            "0      1      1        8.1        6.7    16.1   19.0    7.0\n",
            "1      1      2        8.8        7.7    18.1   20.8    7.4\n",
            "2      1      3        9.2        7.8    19.0   22.4    7.7\n",
            "3      1      4        9.6        7.9    20.1   23.1    8.2\n",
            "4      1      5        9.8        8.0    20.3   23.0    8.2\n"
          ]
        }
      ]
    },
    {
      "cell_type": "code",
      "source": [
        "y = repl.drop(['speies', 'index', 'fontallip', 'rearwidth', 'length', 'width','depth'], axis = 1)\n",
        "print(y[:5])"
      ],
      "metadata": {
        "colab": {
          "base_uri": "https://localhost:8080/"
        },
        "id": "3tbyKnN4-0de",
        "outputId": "c8bcd537-8cd0-44fd-cb5c-4b9b91ceaaec"
      },
      "execution_count": 16,
      "outputs": [
        {
          "output_type": "stream",
          "name": "stdout",
          "text": [
            "  sex\n",
            "0   1\n",
            "1   1\n",
            "2   1\n",
            "3   1\n",
            "4   1\n"
          ]
        }
      ]
    },
    {
      "cell_type": "code",
      "source": [
        "x_train, x_test, y_train, y_test = train_test_split(x,y,test_size=0.3)\n",
        "sc = StandardScaler()\n",
        "sc.fit(x_train)\n",
        "x_train_std = sc.transform(x_train)\n",
        "x_test_std = sc.transform(x_test)\n",
        "print(x_train_std[:5], x_train[:5])\n",
        "model = Perceptron(max_iter = 100, eta0 = 0.1, random_state = 0) #hoc 40 lan voi toc do 0.1\n",
        "model.fit(x_train_std, y_train)\n",
        "y_pred = model.predict(x_test_std)\n",
        "print(y_pred)\n",
        "print(y_test)\n",
        "print(\"Do chinh xac mo hinh:\", accuracy_score(y_test, y_pred))"
      ],
      "metadata": {
        "colab": {
          "base_uri": "https://localhost:8080/"
        },
        "id": "CgWwb16G_Du9",
        "outputId": "025d4575-6351-42b2-fe36-5fb389298bf6"
      },
      "execution_count": 18,
      "outputs": [
        {
          "output_type": "stream",
          "name": "stdout",
          "text": [
            "[[-1.02899151 -1.33762779 -0.85922427 -0.92758264 -0.90637138 -1.02599821\n",
            "  -0.59014612]\n",
            " [ 0.97182532 -0.84127216 -1.18756308 -0.68271481 -1.11289171 -1.06627856\n",
            "  -1.11131412]\n",
            " [ 0.97182532 -0.41582447 -0.88907326 -0.19297917 -0.89161993 -0.65004822\n",
            "  -0.86605859]\n",
            " [-1.02899151 -0.48673242 -0.26224463 -0.64190351 -0.46382781 -0.58291429\n",
            "  -0.28357671]\n",
            " [ 0.97182532 -1.69216754 -1.96363662 -1.70299741 -1.89471869 -1.84503211\n",
            "  -1.93905153]]     speies  index  fontallip  rearwidth  length  width  depth\n",
            "106      0      7       12.7       10.4    26.0   28.8   12.1\n",
            "63       1     14       11.6       11.0    24.6   28.5   10.4\n",
            "69       1     20       12.6       12.2    26.1   31.6   11.2\n",
            "118      0     19       14.7       11.1    29.0   32.1   13.1\n",
            "51       1      2        9.0        8.5    19.3   22.7    7.7\n",
            "['0' '1' '1' '0' '0' '1' '0' '0' '0' '0' '0' '0' '0' '1' '0' '1' '0' '0'\n",
            " '1' '0' '0' '0' '0' '1' '0' '0' '0' '0' '1' '1' '1' '1' '0' '1' '0' '1'\n",
            " '0' '1' '0' '1' '1' '0' '0' '0' '0' '1' '0' '0' '1' '0' '0' '0' '0' '0'\n",
            " '0' '0' '1' '0' '0' '0']\n",
            "    sex\n",
            "6     1\n",
            "43    1\n",
            "35    1\n",
            "59    0\n",
            "159   0\n",
            "149   1\n",
            "64    0\n",
            "83    0\n",
            "193   0\n",
            "0     1\n",
            "163   0\n",
            "78    0\n",
            "100   1\n",
            "49    1\n",
            "191   0\n",
            "99    0\n",
            "180   0\n",
            "175   0\n",
            "38    1\n",
            "161   0\n",
            "103   1\n",
            "60    0\n",
            "82    0\n",
            "121   1\n",
            "169   0\n",
            "171   0\n",
            "157   0\n",
            "62    0\n",
            "145   1\n",
            "22    1\n",
            "136   1\n",
            "44    1\n",
            "66    0\n",
            "25    1\n",
            "187   0\n",
            "111   1\n",
            "14    1\n",
            "146   1\n",
            "55    0\n",
            "179   0\n",
            "125   1\n",
            "194   0\n",
            "109   1\n",
            "192   0\n",
            "162   0\n",
            "196   0\n",
            "150   0\n",
            "170   0\n",
            "115   1\n",
            "96    0\n",
            "53    0\n",
            "89    0\n",
            "9     1\n",
            "73    0\n",
            "67    0\n",
            "102   1\n",
            "27    1\n",
            "164   0\n",
            "185   0\n",
            "61    0\n",
            "Do chinh xac mo hinh: 0.8166666666666667\n"
          ]
        },
        {
          "output_type": "stream",
          "name": "stderr",
          "text": [
            "/usr/local/lib/python3.9/dist-packages/sklearn/utils/validation.py:1143: DataConversionWarning: A column-vector y was passed when a 1d array was expected. Please change the shape of y to (n_samples, ), for example using ravel().\n",
            "  y = column_or_1d(y, warn=True)\n"
          ]
        }
      ]
    }
  ]
}