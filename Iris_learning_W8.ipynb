{
  "nbformat": 4,
  "nbformat_minor": 0,
  "metadata": {
    "colab": {
      "provenance": [],
      "authorship_tag": "ABX9TyOmea5ys1K46N5RrWb1PuJn",
      "include_colab_link": true
    },
    "kernelspec": {
      "name": "python3",
      "display_name": "Python 3"
    },
    "language_info": {
      "name": "python"
    }
  },
  "cells": [
    {
      "cell_type": "markdown",
      "metadata": {
        "id": "view-in-github",
        "colab_type": "text"
      },
      "source": [
        "<a href=\"https://colab.research.google.com/github/TietNguyenHoangTanDat/AI-SangT5/blob/main/Iris_learning_W8.ipynb\" target=\"_parent\"><img src=\"https://colab.research.google.com/assets/colab-badge.svg\" alt=\"Open In Colab\"/></a>"
      ]
    },
    {
      "cell_type": "markdown",
      "source": [
        "Dữ liệu đã train thì không dùng để test\n",
        "\n"
      ],
      "metadata": {
        "id": "l6DCAVuz3UUR"
      }
    },
    {
      "cell_type": "code",
      "execution_count": null,
      "metadata": {
        "id": "Fgo4BQF52Vx7"
      },
      "outputs": [],
      "source": [
        "from sklearn.linear_model import Perceptron\n",
        "from sklearn import datasets\n",
        "from sklearn.model_selection import train_test_split\n",
        "from sklearn.metrics import accuracy_score\n",
        "from sklearn.preprocessing import StandardScaler\n",
        "\n"
      ]
    },
    {
      "cell_type": "code",
      "source": [
        "iris = datasets.load_iris()\n",
        "x = iris.data\n",
        "y = iris.target\n",
        "print(x[:5])\n",
        "print(y[:5])\n"
      ],
      "metadata": {
        "colab": {
          "base_uri": "https://localhost:8080/"
        },
        "id": "nZw_FUKB4RkM",
        "outputId": "d6e2a844-db8a-42cd-9c3e-9900553b7507"
      },
      "execution_count": null,
      "outputs": [
        {
          "output_type": "stream",
          "name": "stdout",
          "text": [
            "[[5.1 3.5 1.4 0.2]\n",
            " [4.9 3.  1.4 0.2]\n",
            " [4.7 3.2 1.3 0.2]\n",
            " [4.6 3.1 1.5 0.2]\n",
            " [5.  3.6 1.4 0.2]]\n",
            "[0 0 0 0 0]\n"
          ]
        }
      ]
    },
    {
      "cell_type": "code",
      "source": [
        "x_train, x_test, y_train, y_test = train_test_split(x,y,test_size=0.3)\n",
        "sc = StandardScaler()\n",
        "sc.fit(x_train)\n",
        "x_train_std = sc.transform(x_train)\n",
        "x_test_std = sc.transform(x_test)\n",
        "print(x_train_std[:5], x_train[:5])\n",
        "print(y[:5])\n",
        "model = Perceptron(max_iter = 100, eta0 = 0.1, random_state = 0) #hoc 40 lan voi toc do 0.1\n",
        "model.fit(x_train_std, y_train)\n",
        "y_pred = model.predict(x_test_std)\n",
        "print(y_pred)\n",
        "print(y_test)\n",
        "print(\"Do chinh xac mo hinh:\", accuracy_score(y_test, y_pred))"
      ],
      "metadata": {
        "colab": {
          "base_uri": "https://localhost:8080/"
        },
        "id": "Ye7myFTP-xCM",
        "outputId": "cd24346d-4063-4e05-e2b2-953ff68deabe"
      },
      "execution_count": null,
      "outputs": [
        {
          "output_type": "stream",
          "name": "stdout",
          "text": [
            "[[-0.38964667 -0.10360913  0.34718609  0.32564899]\n",
            " [-1.37549969  0.78446914 -1.1549027  -1.41753088]\n",
            " [-1.49873132  0.34043001 -1.50153858 -1.41753088]\n",
            " [-0.63610993  0.78446914 -1.270448   -1.41753088]\n",
            " [ 0.84266961 -0.3256287   0.40495874  0.05746747]] [[5.6 3.  4.5 1.5]\n",
            " [4.8 3.4 1.9 0.2]\n",
            " [4.7 3.2 1.3 0.2]\n",
            " [5.4 3.4 1.7 0.2]\n",
            " [6.6 2.9 4.6 1.3]]\n",
            "[0 0 0 0 0]\n",
            "[0 0 0 0 0 0 0 2 2 1 2 1 0 1 2 0 0 2 0 0 1 1 0 1 0 0 2 1 0 0 1 2 2 0 1 1 0\n",
            " 0 0 1 0 1 1 1 0]\n",
            "[0 1 1 0 0 0 0 1 2 2 2 1 0 1 2 0 0 2 0 0 2 1 0 1 0 1 2 1 0 0 1 2 2 0 2 1 1\n",
            " 0 0 1 0 2 1 2 0]\n",
            "Do chinh xac mo hinh: 0.7777777777777778\n"
          ]
        }
      ]
    },
    {
      "cell_type": "code",
      "source": [
        "import pandas as pd\n",
        "print(pd.read_csv('iris.csv'))"
      ],
      "metadata": {
        "colab": {
          "base_uri": "https://localhost:8080/"
        },
        "id": "idnOUw7X4XzN",
        "outputId": "eb4f2a62-8eba-4b0f-db2b-677ee4f5f64a"
      },
      "execution_count": null,
      "outputs": [
        {
          "output_type": "stream",
          "name": "stdout",
          "text": [
            "     sepal.length  sepal.width  petal.length  petal.width    variety\n",
            "0             5.1          3.5           1.4          0.2     Setosa\n",
            "1             4.9          3.0           1.4          0.2     Setosa\n",
            "2             4.7          3.2           1.3          0.2     Setosa\n",
            "3             4.6          3.1           1.5          0.2     Setosa\n",
            "4             5.0          3.6           1.4          0.2     Setosa\n",
            "..            ...          ...           ...          ...        ...\n",
            "145           6.7          3.0           5.2          2.3  Virginica\n",
            "146           6.3          2.5           5.0          1.9  Virginica\n",
            "147           6.5          3.0           5.2          2.0  Virginica\n",
            "148           6.2          3.4           5.4          2.3  Virginica\n",
            "149           5.9          3.0           5.1          1.8  Virginica\n",
            "\n",
            "[150 rows x 5 columns]\n"
          ]
        }
      ]
    }
  ]
}